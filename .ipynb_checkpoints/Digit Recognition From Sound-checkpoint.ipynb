{
 "cells": [
  {
   "cell_type": "code",
   "execution_count": 1,
   "metadata": {},
   "outputs": [],
   "source": [
    "import os, shutil, torch, pandas as pd, numpy as np, matplotlib.pyplot as plt\n",
    "from skimage import io, transform\n",
    "from scipy import signal\n",
    "from scipy.io import wavfile\n",
    "from torch.utils.data import Dataset, DataLoader\n",
    "from torchvision import transforms, utils\n",
    "from random import shuffle\n",
    "import librosa\n",
    "import torch.nn as nn, torch.nn.functional as F, torch.optim as optim"
   ]
  },
  {
   "cell_type": "code",
   "execution_count": 2,
   "metadata": {},
   "outputs": [],
   "source": [
    "original_base_dir = './data/recordings'\n",
    "raw_data = os.path.join(original_base_dir, 'raw_data')\n",
    "copy_data = os.path.join(original_base_dir, 'copy_data')\n",
    "train_data = os.path.join(original_base_dir, 'train')\n",
    "valid_data = os.path.join(original_base_dir, 'valid')\n",
    "test_data = os.path.join(original_base_dir, 'test')\n",
    "\n",
    "\n",
    "def preprocess_dataset():\n",
    "    \n",
    "    if not os.path.isdir(copy_data): os.mkdir(copy_data)\n",
    "\n",
    "    files = os.listdir(os.path.join(raw_data))\n",
    "    numbers_dir = ['zero', 'one', 'two', 'three', 'four', 'five', 'six', 'seven', 'eight','nine']\n",
    "\n",
    "    for name in numbers_dir:\n",
    "        label_dir = os.path.join(copy_data, name)\n",
    "        if not os.path.isdir(label_dir): os.mkdir(label_dir)\n",
    "    \n",
    "    for file in files:\n",
    "        label = file[0]\n",
    "        dst = os.path.join(copy_data,  numbers_dir[int(label)], file)\n",
    "        src = os.path.join(raw_data, file)\n",
    "        shutil.copyfile(src, dst)\n",
    "    \n",
    "    if not os.path.isdir(train_data):\n",
    "        os.mkdir(train_data)\n",
    "\n",
    "    if not os.path.isdir(valid_data):\n",
    "        os.mkdir(valid_data)\n",
    "\n",
    "    if not os.path.isdir(test_data):\n",
    "        os.mkdir(test_data)\n",
    "    \n",
    "    for name in numbers_dir:\n",
    "        files = os.listdir(os.path.join(copy_data, name))\n",
    "        shuffle(files)\n",
    "        test_total = len(files) * 20 // 100\n",
    "        train_total = (len(files) - test_total) * 85 // 100\n",
    "        valid_total = len(files) - test_total - train_total\n",
    "#         print(test_total, train_total, valid_total)\n",
    "\n",
    "        for i, file in enumerate(files):\n",
    "            src = os.path.join(copy_data, name, file)\n",
    "\n",
    "            if i < train_total:\n",
    "                dest = os.path.join(train_data, file)\n",
    "            elif i < train_total + valid_total:\n",
    "                dest = os.path.join(valid_data, file)\n",
    "            else:\n",
    "                dest = os.path.join(test_data, file)\n",
    "\n",
    "            shutil.copy(src, dest)\n",
    "\n",
    "preprocess_dataset()\n",
    "            "
   ]
  },
  {
   "cell_type": "code",
   "execution_count": 3,
   "metadata": {},
   "outputs": [],
   "source": [
    "# os.path.join??"
   ]
  },
  {
   "cell_type": "code",
   "execution_count": 4,
   "metadata": {
    "scrolled": true
   },
   "outputs": [],
   "source": [
    "# for name in numbers_dir:\n",
    "#     print(name, len(os.listdir(os.path.join(copy_data, name))))"
   ]
  },
  {
   "cell_type": "code",
   "execution_count": 5,
   "metadata": {},
   "outputs": [],
   "source": [
    "# file = os.listdir(train_data)[10]\n",
    "# sample_rate, samples = wavfile.read(os.path.join(train_data, file))\n",
    "# freq, times, spectrogram = signal.spectrogram(samples, sample_rate)\n",
    "\n",
    "# print(freq.shape, times.shape, spectrogram.shape)"
   ]
  },
  {
   "cell_type": "code",
   "execution_count": 6,
   "metadata": {},
   "outputs": [],
   "source": [
    "# signal.spectrogram??"
   ]
  },
  {
   "cell_type": "code",
   "execution_count": 7,
   "metadata": {},
   "outputs": [],
   "source": [
    "# def show_spectrogram(spectrogram, times, freq):\n",
    "#     plt.pcolormesh(times, freq, spectrogram)\n",
    "#     plt.pause(0.001)"
   ]
  },
  {
   "cell_type": "code",
   "execution_count": 8,
   "metadata": {},
   "outputs": [],
   "source": [
    "# custom dataset\n",
    "\n",
    "class AudioDigitDataset(Dataset):\n",
    "    \n",
    "    def __init__(self, root_dir, transform=None):\n",
    "        \n",
    "        self.root_dir = root_dir\n",
    "        self.transform = transform\n",
    "        self.files = os.listdir(root_dir)\n",
    "        \n",
    "    def __len__(self):\n",
    "            return len(self.files)\n",
    "        \n",
    "    def __getitem__(self, idx):\n",
    "            assert idx >= 0 and idx < self.__len__()\n",
    "            \n",
    "            if torch.is_tensor(idx):\n",
    "                idx = idx.tolist()\n",
    "            \n",
    "            file = self.files[idx]\n",
    "            label = file[0]\n",
    "            audio_name = os.path.join(self.root_dir, self.files[idx])\n",
    "            spectrog = self._wav2mfcc(audio_name)\n",
    "            if self.transform:\n",
    "                spectrog = self.transform(spectrog)\n",
    "            \n",
    "            return spectrog, int(label)\n",
    "            \n",
    "        \n",
    "    def _convert_wav_to_spectrogram(self, audio_name):\n",
    "        sample_rate, samples = wavfile.read(audio_name)\n",
    "        freq, times, spectrogram = signal.spectrogram(samples, sample_rate)\n",
    "#         self._show_spectrogram(spectrogram, times, freq)\n",
    "        return spectrogram\n",
    "\n",
    "    def _wav2mfcc(self, file_path, max_pad_len=20):\n",
    "        wave, sr = librosa.load(file_path, mono=True, sr=None)\n",
    "        wave = wave[::3]\n",
    "        mfcc = librosa.feature.mfcc(wave, sr=8000)\n",
    "        pad_width = max_pad_len - mfcc.shape[1]\n",
    "        mfcc = np.pad(mfcc, pad_width=((0, 0), (0, pad_width)), mode='constant')\n",
    "        return mfcc\n",
    "    \n",
    "#     def _show_spectrogram(self, spectrogram, times, freq):\n",
    "#         plt.pcolormesh(times, freq, spectrogram)\n",
    "#         plt.pause(0.001)\n",
    "\n",
    "        "
   ]
  },
  {
   "cell_type": "code",
   "execution_count": 9,
   "metadata": {},
   "outputs": [],
   "source": [
    "# audio_dataset = AudioDigitDataset(train_data)\n",
    "\n",
    "# for i in range(len(audio_dataset)):\n",
    "#     sample = audio_dataset[i]\n",
    "#     print(sample[1])\n",
    "#     print(sample[0].shape)\n",
    "    \n",
    "    "
   ]
  },
  {
   "cell_type": "code",
   "execution_count": 10,
   "metadata": {},
   "outputs": [],
   "source": [
    "# signal.spectrogram??"
   ]
  },
  {
   "cell_type": "code",
   "execution_count": 11,
   "metadata": {},
   "outputs": [],
   "source": [
    "# custom transformation\n",
    "\n",
    "class Rescale(object):\n",
    "\n",
    "    def __init__(self, output_size):\n",
    "        assert isinstance(output_size, (int, tuple))\n",
    "        self.output_size = output_size\n",
    "\n",
    "    def __call__(self, spectrogram):\n",
    "        \n",
    "        h, w = spectrogram.shape[:2]\n",
    "        \n",
    "        if isinstance(self.output_size, int):\n",
    "            if h > w:\n",
    "                new_h, new_w = self.output_size * h / w, self.output_size\n",
    "            else:\n",
    "                new_h, new_w = self.output_size, self.output_size * w / h\n",
    "        else:\n",
    "            new_h, new_w = self.output_size\n",
    "\n",
    "        new_h, new_w = int(new_h), int(new_w)\n",
    "\n",
    "        spec = transform.resize(spectrogram, (new_h, new_w))\n",
    "\n",
    "        return spec\n",
    "\n",
    "class RandomCrop(object):\n",
    "\n",
    "    def __init__(self, output_size):\n",
    "        assert isinstance(output_size, (int, tuple))\n",
    "        if isinstance(output_size, int):\n",
    "            self.output_size = (output_size, output_size)\n",
    "        else:\n",
    "            assert len(output_size) == 2\n",
    "            self.output_size = output_size\n",
    "\n",
    "    def __call__(self, sample):\n",
    "\n",
    "        h, w = sample.shape[:2]\n",
    "        new_h, new_w = self.output_size\n",
    "        \n",
    "        if new_h > h:\n",
    "            new_h = h-1\n",
    "        if new_w > w:\n",
    "            new_w = w-1\n",
    "\n",
    "        top = np.random.randint(0, h - new_h)\n",
    "        left = np.random.randint(0, w - new_w)\n",
    "\n",
    "        sample = sample[top: top + new_h,\n",
    "                      left: left + new_w]\n",
    "\n",
    "        return sample\n",
    "\n",
    "    \n",
    "class ToTensor(object):\n",
    "\n",
    "    def __call__(self, sample):\n",
    "        # numpy image: H x W x C\n",
    "        # torch image: C X H X W\n",
    "        sample.shape += (1,)\n",
    "        sample = sample.transpose((2, 0, 1))\n",
    "        return torch.from_numpy(sample)"
   ]
  },
  {
   "cell_type": "code",
   "execution_count": 12,
   "metadata": {
    "scrolled": true
   },
   "outputs": [],
   "source": [
    "# scale = Rescale(256)\n",
    "# crop = RandomCrop(128)\n",
    "# composed = transforms.Compose([Rescale(256),\n",
    "#                                RandomCrop((128, 32))])\n",
    "\n",
    "# Apply each of the above transforms on sample.\n",
    "# sample = audio_dataset[22][0]\n",
    "\n",
    "# for i, tsfrm in enumerate([scale, crop, composed]):\n",
    "#     transformed_sample = tsfrm(sample)\n",
    "#     print(transformed_sample.shape, sample[1])"
   ]
  },
  {
   "cell_type": "code",
   "execution_count": 13,
   "metadata": {},
   "outputs": [],
   "source": [
    "# defining datasets and dataloaders\n",
    "\n",
    "img_width, img_height = 64, 64\n",
    "rs = 64\n",
    "\n",
    "custom_transform = transforms.Compose([Rescale(rs), ToTensor()])\n",
    "\n",
    "train_dataset = AudioDigitDataset(train_data, transform=custom_transform)\n",
    "valid_dataset = AudioDigitDataset(valid_data, transform=custom_transform)\n",
    "test_dataset = AudioDigitDataset(test_data, transform=custom_transform)\n",
    "\n",
    "train_loader = DataLoader(train_dataset, batch_size=16, shuffle=True, num_workers=4)\n",
    "valid_loader = DataLoader(valid_dataset, batch_size=16, shuffle=True, num_workers=4)\n",
    "test_loader = DataLoader(test_dataset, batch_size=16, shuffle=True, num_workers=4)\n",
    "\n",
    "\n",
    "# dataiter = iter(train_loader)\n",
    "# img, labl = dataiter.next()\n",
    "\n",
    "# print(img.shape)\n",
    "# print(labl)\n"
   ]
  },
  {
   "cell_type": "code",
   "execution_count": 14,
   "metadata": {},
   "outputs": [],
   "source": [
    "# model\n",
    "\n",
    "class Net(nn.Module):\n",
    "\n",
    "    def __init__(self, w, h):\n",
    "        super(Net, self).__init__()\n",
    "        self.w = (((w-2) // 2)-2) // 2\n",
    "        self.h = (((h-2) // 2)-2) // 2\n",
    "        self.conv1 = nn.Conv2d(1, 32, 3)\n",
    "        self.pool = nn.MaxPool2d(2, 2)\n",
    "        self.conv2 = nn.Conv2d(32, 64, 3)\n",
    "        self.fc1 = nn.Linear(64 * self.w * self.h, 32)\n",
    "        self.fc2 = nn.Linear(32, 16)\n",
    "        self.fc3 = nn.Linear(16, 10)\n",
    "        self.softmax = nn.Softmax(dim=1)\n",
    "    \n",
    "    def forward(self, x):\n",
    "        x = self.pool(F.relu(self.conv1(x)))\n",
    "        x = self.pool(F.relu(self.conv2(x)))\n",
    "        x = x.view(-1, 64 * self.w * self.h)\n",
    "        x = F.relu(self.fc1(x))\n",
    "        x = F.relu(self.fc2(x))\n",
    "        x = self.fc3(x)\n",
    "        x = self.softmax(x)\n",
    "        \n",
    "        return x\n",
    "\n",
    "net = Net(img_width, img_height)"
   ]
  },
  {
   "cell_type": "code",
   "execution_count": 15,
   "metadata": {},
   "outputs": [],
   "source": [
    "# loss function and optimizer\n",
    "\n",
    "criterion = nn.CrossEntropyLoss()\n",
    "optimizer = optim.RMSprop(net.parameters(), lr=0.001)\n",
    "\n",
    "def calculate_accuracy(dataloader, net):\n",
    "    total = 0\n",
    "    correct = 0\n",
    "    with torch.no_grad():\n",
    "        for data in dataloader:\n",
    "            images, labels = data\n",
    "            outputs = net(images)\n",
    "            _, predicted = torch.max(outputs.data, 1)\n",
    "            total += labels.size(0)\n",
    "            correct += (predicted == labels).sum().item()\n",
    "    \n",
    "    return  100 * correct / total\n"
   ]
  },
  {
   "cell_type": "code",
   "execution_count": 16,
   "metadata": {},
   "outputs": [
    {
     "name": "stdout",
     "output_type": "stream",
     "text": [
      "Epoch#1 train loss: 2.155 valid loss: 1.965 valid accuracy: 51.045 %\n",
      "Epoch#2 train loss: 1.963 valid loss: 1.998 valid accuracy: 45.645 %\n",
      "Epoch#3 train loss: 1.949 valid loss: 1.945 valid accuracy: 51.742 %\n",
      "Epoch#4 train loss: 1.912 valid loss: 1.887 valid accuracy: 57.317 %\n",
      "Epoch#5 train loss: 1.896 valid loss: 1.886 valid accuracy: 57.317 %\n",
      "Epoch#6 train loss: 1.887 valid loss: 1.882 valid accuracy: 57.666 %\n",
      "Epoch#7 train loss: 1.888 valid loss: 1.899 valid accuracy: 56.272 %\n",
      "Epoch#8 train loss: 1.881 valid loss: 1.886 valid accuracy: 57.840 %\n",
      "Epoch#9 train loss: 1.871 valid loss: 1.865 valid accuracy: 59.233 %\n",
      "Epoch#10 train loss: 1.874 valid loss: 1.867 valid accuracy: 59.233 %\n",
      "Epoch#11 train loss: 1.874 valid loss: 1.885 valid accuracy: 57.317 %\n",
      "Epoch#12 train loss: 1.877 valid loss: 2.017 valid accuracy: 44.251 %\n",
      "Epoch#13 train loss: 1.871 valid loss: 1.938 valid accuracy: 50.871 %\n",
      "Epoch#14 train loss: 1.862 valid loss: 1.851 valid accuracy: 61.324 %\n",
      "Epoch#15 train loss: 1.822 valid loss: 1.859 valid accuracy: 59.930 %\n",
      "Epoch#16 train loss: 1.816 valid loss: 1.803 valid accuracy: 65.505 %\n",
      "Epoch#17 train loss: 1.802 valid loss: 1.798 valid accuracy: 66.202 %\n",
      "Epoch#18 train loss: 1.791 valid loss: 1.783 valid accuracy: 67.596 %\n",
      "Epoch#19 train loss: 1.796 valid loss: 1.803 valid accuracy: 65.679 %\n",
      "Epoch#20 train loss: 1.783 valid loss: 1.813 valid accuracy: 64.460 %\n",
      "Epoch#21 train loss: 1.786 valid loss: 1.782 valid accuracy: 67.247 %\n",
      "Epoch#22 train loss: 1.752 valid loss: 1.719 valid accuracy: 74.042 %\n",
      "Epoch#23 train loss: 1.716 valid loss: 1.701 valid accuracy: 76.481 %\n",
      "Epoch#24 train loss: 1.700 valid loss: 1.715 valid accuracy: 74.739 %\n",
      "Epoch#25 train loss: 1.694 valid loss: 1.690 valid accuracy: 77.003 %\n",
      "Epoch#26 train loss: 1.684 valid loss: 1.675 valid accuracy: 78.571 %\n",
      "Epoch#27 train loss: 1.676 valid loss: 1.709 valid accuracy: 74.913 %\n",
      "Epoch#28 train loss: 1.685 valid loss: 1.668 valid accuracy: 79.094 %\n",
      "Epoch#29 train loss: 1.676 valid loss: 1.667 valid accuracy: 79.094 %\n",
      "Epoch#30 train loss: 1.675 valid loss: 1.674 valid accuracy: 78.571 %\n",
      "Epoch#31 train loss: 1.671 valid loss: 1.669 valid accuracy: 79.094 %\n",
      "Epoch#32 train loss: 1.688 valid loss: 1.707 valid accuracy: 75.087 %\n",
      "Epoch#33 train loss: 1.669 valid loss: 1.668 valid accuracy: 79.094 %\n",
      "Epoch#34 train loss: 1.666 valid loss: 1.667 valid accuracy: 79.094 %\n",
      "Epoch#35 train loss: 1.666 valid loss: 1.667 valid accuracy: 79.094 %\n",
      "Epoch#36 train loss: 1.669 valid loss: 1.666 valid accuracy: 79.094 %\n",
      "Epoch#37 train loss: 1.668 valid loss: 1.682 valid accuracy: 78.049 %\n",
      "Epoch#38 train loss: 1.684 valid loss: 1.678 valid accuracy: 78.223 %\n",
      "Epoch#39 train loss: 1.676 valid loss: 1.672 valid accuracy: 78.746 %\n",
      "Epoch#40 train loss: 1.665 valid loss: 1.663 valid accuracy: 79.268 %\n",
      "Epoch#41 train loss: 1.638 valid loss: 1.597 valid accuracy: 86.760 %\n",
      "Epoch#42 train loss: 1.610 valid loss: 1.594 valid accuracy: 86.411 %\n",
      "Epoch#43 train loss: 1.588 valid loss: 1.578 valid accuracy: 88.328 %\n",
      "Epoch#44 train loss: 1.581 valid loss: 1.577 valid accuracy: 88.502 %\n",
      "Epoch#45 train loss: 1.582 valid loss: 1.630 valid accuracy: 83.798 %\n",
      "Epoch#46 train loss: 1.579 valid loss: 1.570 valid accuracy: 89.024 %\n",
      "Epoch#47 train loss: 1.571 valid loss: 1.569 valid accuracy: 89.024 %\n",
      "Epoch#48 train loss: 1.566 valid loss: 1.560 valid accuracy: 90.418 %\n",
      "Epoch#49 train loss: 1.521 valid loss: 1.508 valid accuracy: 95.819 %\n",
      "Epoch#50 train loss: 1.502 valid loss: 1.532 valid accuracy: 93.380 %\n",
      "Finished Training\n"
     ]
    }
   ],
   "source": [
    "# training network\n",
    "\n",
    "train_losses = []\n",
    "valid_losses = []\n",
    "train_accuracy = []\n",
    "valid_accuracy = []\n",
    "phase = 'train'\n",
    "total_epochs = 50\n",
    "for epoch in range(total_epochs):\n",
    "    \n",
    "    # training phase\n",
    "    running_loss = 0.0\n",
    "    k = 0\n",
    "    for i, data in enumerate(train_loader, 0):\n",
    "        \n",
    "        inputs, labels = data\n",
    "                \n",
    "        outputs = net(inputs)\n",
    "        loss = criterion(outputs, labels)\n",
    "        \n",
    "        optimizer.zero_grad()  \n",
    "        loss.backward()\n",
    "        optimizer.step()\n",
    "        \n",
    "        running_loss += loss.item()\n",
    "        \n",
    "        k += 1\n",
    "        \n",
    "    running_loss /= k\n",
    "    train_losses.append(running_loss)\n",
    "    \n",
    "    \n",
    "    # validitaing phase\n",
    "    vrunning_loss = 0.0\n",
    "    k = 0\n",
    "    for i, data in enumerate(valid_loader, 0):\n",
    "        \n",
    "        inputs, labels = data\n",
    "                \n",
    "        outputs = net(inputs)\n",
    "        loss = criterion(outputs, labels)\n",
    "        optimizer.zero_grad()  \n",
    "        \n",
    "        vrunning_loss += loss.item()\n",
    "        \n",
    "        k += 1\n",
    "        \n",
    "    vrunning_loss /= k\n",
    "    valid_losses.append(vrunning_loss)\n",
    "    \n",
    "       \n",
    "    accuracy = calculate_accuracy(valid_loader, net)\n",
    "    valid_accuracy.append(accuracy)\n",
    "    train_accuracy.append(calculate_accuracy(train_loader, net))\n",
    "    \n",
    "    print('Epoch#{:d} train loss: {:.3f} valid loss: {:.3f}'.format(epoch+1, running_loss, vrunning_loss), end=' ')\n",
    "    print('valid accuracy: {:.3f} %'.format(accuracy))\n",
    "    \n",
    "            \n",
    "print('Finished Training')\n",
    "        "
   ]
  },
  {
   "cell_type": "code",
   "execution_count": 21,
   "metadata": {},
   "outputs": [
    {
     "name": "stdout",
     "output_type": "stream",
     "text": [
      "Accuracy of the network on the test datasets: 92.491 %\n"
     ]
    }
   ],
   "source": [
    "print('Accuracy of the network on the test datasets: {:.3f} %'.format(calculate_accuracy(test_loader, net))) "
   ]
  },
  {
   "cell_type": "code",
   "execution_count": 18,
   "metadata": {},
   "outputs": [],
   "source": [
    "# help(torch.max)"
   ]
  },
  {
   "cell_type": "code",
   "execution_count": 22,
   "metadata": {},
   "outputs": [],
   "source": [
    "def plot_loss(train_data, val_data, type):\n",
    "    \n",
    "    epochs = range(1, len(train_data) + 1)\n",
    "    \n",
    "    plt.figure()\n",
    "    plt.plot(epochs, train_data, 'bo', label='Training' + type)\n",
    "    plt.plot(epochs, val_data, 'b', label='Validation ' + type)\n",
    "    plt.title('Training and Validation '+type)\n",
    "    plt.xlabel('Epochs')\n",
    "    plt.ylabel(type)\n",
    "    plt.legend()"
   ]
  },
  {
   "cell_type": "code",
   "execution_count": 23,
   "metadata": {},
   "outputs": [
    {
     "data": {
      "image/png": "[encoded data removed]",
      "text/plain": [
       "<Figure size 432x288 with 1 Axes>"
      ]
     },
     "metadata": {
      "needs_background": "light"
     },
     "output_type": "display_data"
    },
    {
     "data": {
      "image/png": "[encoded data removed]",
      "text/plain": [
       "<Figure size 432x288 with 1 Axes>"
      ]
     },
     "metadata": {
      "needs_background": "light"
     },
     "output_type": "display_data"
    }
   ],
   "source": [
    "plot_loss(train_losses, valid_losses, 'loss')\n",
    "plot_loss(train_accuracy, train_accuracy, 'accuracy')\n",
    "\n",
    "plt.show()"
   ]
  },
  {
   "cell_type": "code",
   "execution_count": null,
   "metadata": {},
   "outputs": [],
   "source": []
  }
 ],
 "metadata": {
  "kernelspec": {
   "display_name": "pytorch_dl",
   "language": "python",
   "name": "pytorch_dl"
  },
  "language_info": {
   "codemirror_mode": {
    "name": "ipython",
    "version": 3
   },
   "file_extension": ".py",
   "mimetype": "text/x-python",
   "name": "python",
   "nbconvert_exporter": "python",
   "pygments_lexer": "ipython3",
   "version": "3.8.3"
  }
 },
 "nbformat": 4,
 "nbformat_minor": 2
}
